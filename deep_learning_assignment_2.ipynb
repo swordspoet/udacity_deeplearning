{
 "cells": [
  {
   "cell_type": "code",
   "execution_count": 1,
   "metadata": {
    "collapsed": true
   },
   "outputs": [],
   "source": [
    "# These are all the modules we'll be using later. Make sure you can import them\n",
    "# before proceeding further.\n",
    "from __future__ import print_function\n",
    "import numpy as np\n",
    "import tensorflow as tf\n",
    "from six.moves import cPickle as pickle\n",
    "from six.moves import range"
   ]
  },
  {
   "cell_type": "code",
   "execution_count": 2,
   "metadata": {
    "collapsed": false
   },
   "outputs": [
    {
     "name": "stdout",
     "output_type": "stream",
     "text": [
      "Training set (200000, 28, 28) (200000,)\n",
      "Validation set (10000, 28, 28) (10000,)\n",
      "Test set (10000, 28, 28) (10000,)\n"
     ]
    }
   ],
   "source": [
    "# 加载任务1处理过的数据集\n",
    "pickle_file = 'E:/Python/data/notMNIST.pickle'\n",
    "with open(pickle_file, 'rb') as f:  \n",
    "    save = pickle.load(f)\n",
    "    train_dataset = save['train_dataset']\n",
    "    train_labels = save['train_labels']\n",
    "    valid_dataset = save['valid_dataset']\n",
    "    valid_labels = save['valid_labels']\n",
    "    test_dataset = save['test_dataset']\n",
    "    test_labels = save['test_labels']\n",
    "    del save  # hint to help gc free up memory\n",
    "    print('Training set', train_dataset.shape, train_labels.shape)\n",
    "    print('Validation set', valid_dataset.shape, valid_labels.shape)\n",
    "    print('Test set', test_dataset.shape, test_labels.shape)"
   ]
  },
  {
   "cell_type": "code",
   "execution_count": 3,
   "metadata": {
    "collapsed": false
   },
   "outputs": [
    {
     "name": "stdout",
     "output_type": "stream",
     "text": [
      "Training set (200000, 784) (200000, 10)\n",
      "Validation set (10000, 784) (10000, 10)\n",
      "Test set (10000, 784) (10000, 10)\n"
     ]
    }
   ],
   "source": [
    "image_size = 28\n",
    "num_labels = 10\n",
    "\n",
    "def reformat(dataset, labels):\n",
    "    # reshape(-1, image_size * image_size)代表你只知道数组的第二个维度，\n",
    "    # 剩下的维度由Numpy自动计算得出，比如原本维度（20000*28*28）train_dataset\n",
    "    # reshape过后的维度就是20000*(28*28)\n",
    "    # test_dataset的维度就是10000*(28*28)\n",
    "    dataset = dataset.reshape((-1, image_size * image_size)).astype(np.float32)\n",
    "    # 将图片标签映射为数组形式，比如1映射为[False, True, False, ..., False, False, False]\n",
    "    labels = (np.arange(num_labels)) == labels[:, None].astype(np.float32)\n",
    "    return dataset, labels\n",
    "\n",
    "train_dataset, train_labels = reformat(train_dataset, train_labels)\n",
    "valid_dataset, valid_labels = reformat(valid_dataset, valid_labels)\n",
    "test_dataset, test_labels = reformat(test_dataset, test_labels)\n",
    "print('Training set', train_dataset.shape, train_labels.shape)\n",
    "print('Validation set', valid_dataset.shape, valid_labels.shape)\n",
    "print('Test set', test_dataset.shape, test_labels.shape)"
   ]
  },
  {
   "cell_type": "code",
   "execution_count": 4,
   "metadata": {
    "collapsed": true
   },
   "outputs": [],
   "source": [
    "# np.argmax()返回沿着轴线方向最大值的索引值\n",
    "# 判断预测标签与原标签是否相同，并计算相同标签的数目，除以总标签数，即正确率\n",
    "def accuracy(predictions, labels):\n",
    "    return (100.0 * np.sum(np.argmax(predictions, 1) == np.argmax(labels, 1))\n",
    "          / predictions.shape[0])"
   ]
  },
  {
   "cell_type": "markdown",
   "metadata": {},
   "source": [
    "# 一、Multinomial logistic regression with gradient descent\n",
    "\n",
    "首先，我们用简单的梯度下降方法训练一个多分类逻辑斯蒂模型，通过这个部分，你将会了解到tensorflow工作“模板”。\n",
    "\n",
    "tensorflow是这样工作的：\n",
    "\n",
    "- 告诉它计算要求：输入（inputs）、变量（variables）、运算方式（operations looks like），然后tensorflow就会在计算图（computationa graph）中建立一个节点\n",
    "\n",
    "    - with graph_as_default(): \n",
    "\n",
    "- 然后你就可以根据自己的需要在计算图上通过多次调用session.run()来进行计算\n",
    "\n",
    "    - withtf.Session(graph=graph) as session\n",
    "    \n",
    "给逻辑斯蒂和神经网络模型引入可调节的L2正则化参数。在TensorFlow中，你可以使用nn.l2_loss(t)给张量计算L2损失，合适的正则化系数会给模型的验证集、测试集准确度带来提升。"
   ]
  },
  {
   "cell_type": "code",
   "execution_count": 5,
   "metadata": {
    "collapsed": false
   },
   "outputs": [],
   "source": [
    "# With gradient descent training, even this much data is prohibitive.\n",
    "# Subset the training data for faster turnaround.\n",
    "# 先取10000的样本量\n",
    "train_subset = 10000\n",
    "\n",
    "graph = tf.Graph()\n",
    "with graph.as_default():\n",
    "    # Input data.（输入）\n",
    "    # Load the training, validation and test data into constants that are\n",
    "    # attached to the graph.\n",
    "    tf_train_dataset = tf.constant(train_dataset[:train_subset, :])\n",
    "    tf_train_labels = tf.constant(train_labels[:train_subset])\n",
    "    tf_valid_dataset = tf.constant(valid_dataset)\n",
    "    tf_test_dataset = tf.constant(test_dataset)\n",
    "\n",
    "    # Variables.（变量）\n",
    "    # These are the parameters that we are going to be training. The weight\n",
    "    # matrix will be initialized using random valued following a (truncated)\n",
    "    # normal distribution. The biases get initialized to zero.\n",
    "    # 随机初始化权重矩阵（服从正态分布），偏置项初始化为0\n",
    "    weights = tf.Variable(tf.truncated_normal([image_size * image_size, num_labels]))\n",
    "    biases = tf.Variable(tf.zeros([num_labels]))\n",
    "\n",
    "    # Training computation.\n",
    "    # We multiply the inputs with the weight matrix, and add biases. We compute\n",
    "    # the softmax and cross-entropy (it's one operation in TensorFlow, because\n",
    "    # it's very common, and it can be optimized). We take the average of this\n",
    "    # cross-entropy across all training examples: that's our loss.\n",
    "    logits = tf.matmul(tf_train_dataset, weights) + biases\n",
    "    # 注意正确的方式应为tf.nn.softmax_cross_entropy_with_logits(logits=..., labels=...)\n",
    "    loss = tf.reduce_mean(tf.nn.softmax_cross_entropy_with_logits(logits=logits, labels=tf_train_labels))\n",
    "\n",
    "    # Optimizer.\n",
    "    # We are going to find the minimum of this loss using gradient descent.\n",
    "    # 梯度下降算法优化：tf.train.GradientDescentOptimizer()，找到最小损失\n",
    "    optimizer = tf.train.GradientDescentOptimizer(0.5).minimize(loss)\n",
    "\n",
    "    # Predictions for the training, validation, and test data.\n",
    "    # These are not part of training, but merely here so that we can report\n",
    "    # accuracy figures as we train.\n",
    "    train_prediction = tf.nn.softmax(logits)\n",
    "    valid_prediction = tf.nn.softmax(tf.matmul(tf_valid_dataset, weights) + biases)\n",
    "    test_prediction = tf.nn.softmax(tf.matmul(tf_test_dataset, weights) + biases)"
   ]
  },
  {
   "cell_type": "code",
   "execution_count": 6,
   "metadata": {
    "collapsed": false
   },
   "outputs": [
    {
     "name": "stdout",
     "output_type": "stream",
     "text": [
      "WARNING:tensorflow:From <ipython-input-6-9f25cfe8f1dc>:12: initialize_all_variables (from tensorflow.python.ops.variables) is deprecated and will be removed after 2017-03-02.\n",
      "Instructions for updating:\n",
      "Use `tf.global_variables_initializer` instead.\n",
      "初始化变量...\n",
      "迭代次数到 0 时损失为: 16.769234\n",
      "Wall time: 486 µs\n",
      "训练集准确率: 6.9%\n",
      "Wall time: 990 µs\n",
      "验证集准确率: 9.8%\n",
      "Wall time: 87.8 ms\n",
      "迭代次数到 100 时损失为: 2.401129\n",
      "Wall time: 501 µs\n",
      "训练集准确率: 70.8%\n",
      "Wall time: 501 µs\n",
      "验证集准确率: 69.8%\n",
      "Wall time: 2.01 ms\n",
      "迭代次数到 200 时损失为: 1.937966\n",
      "Wall time: 0 ns\n",
      "训练集准确率: 74.0%\n",
      "Wall time: 501 µs\n",
      "验证集准确率: 72.3%\n",
      "Wall time: 2.01 ms\n",
      "迭代次数到 300 时损失为: 1.680977\n",
      "Wall time: 0 ns\n",
      "训练集准确率: 75.3%\n",
      "Wall time: 501 µs\n",
      "验证集准确率: 73.2%\n",
      "Wall time: 2.01 ms\n",
      "迭代次数到 400 时损失为: 1.506529\n",
      "Wall time: 0 ns\n",
      "训练集准确率: 76.3%\n",
      "Wall time: 501 µs\n",
      "验证集准确率: 73.7%\n",
      "Wall time: 2.01 ms\n",
      "迭代次数到 500 时损失为: 1.376693\n",
      "Wall time: 0 ns\n",
      "训练集准确率: 77.1%\n",
      "Wall time: 502 µs\n",
      "验证集准确率: 73.9%\n",
      "Wall time: 1.5 ms\n",
      "迭代次数到 600 时损失为: 1.274513\n",
      "Wall time: 0 ns\n",
      "训练集准确率: 77.6%\n",
      "Wall time: 502 µs\n",
      "验证集准确率: 74.0%\n",
      "Wall time: 2.01 ms\n",
      "迭代次数到 700 时损失为: 1.191335\n",
      "Wall time: 0 ns\n",
      "训练集准确率: 78.0%\n",
      "Wall time: 502 µs\n",
      "验证集准确率: 74.3%\n",
      "Wall time: 2.51 ms\n",
      "迭代次数到 800 时损失为: 1.122059\n",
      "Wall time: 0 ns\n",
      "训练集准确率: 78.4%\n",
      "Wall time: 501 µs\n",
      "验证集准确率: 74.5%\n",
      "Wall time: 2.01 ms\n",
      "测试集准确率: 82.6%\n",
      "Wall time: 98.3 ms\n"
     ]
    }
   ],
   "source": [
    "num_steps = 801\n",
    "\n",
    "def accuracy(predictions, labels):\n",
    "  return (100.0 * np.sum(np.argmax(predictions, 1) == np.argmax(labels, 1))\n",
    "          / predictions.shape[0])\n",
    "\n",
    "with tf.Session(graph=graph) as session:\n",
    "    # This is a one-time operation which ensures the parameters get initialized as\n",
    "    # we described in the graph: random weights for the matrix, zeros for the\n",
    "    # biases. \n",
    "    # 根据上面的做法初始化所有变量\n",
    "    tf.initialize_all_variables().run()\n",
    "    print('初始化变量...')\n",
    "    for step in range(num_steps):\n",
    "    # Run the computations. We tell .run() that we want to run the optimizer,\n",
    "    # and get the loss value and the training predictions returned as numpy\n",
    "    # arrays.\n",
    "        _, l, predictions = session.run([optimizer, loss, train_prediction])\n",
    "        if (step % 100 == 0):\n",
    "            %time print('迭代次数到 %d 时损失为: %f' % (step, l))\n",
    "            %time print('训练集准确率: %.1f%%' % accuracy(predictions, train_labels[:train_subset, :]))\n",
    "    # Calling .eval() on valid_prediction is basically like calling run(), but\n",
    "    # just to get that one numpy array. Note that it recomputes all its graph\n",
    "    # dependencies.\n",
    "            %time print('验证集准确率: %.1f%%' % accuracy(valid_prediction.eval(), valid_labels))\n",
    "    %time print('测试集准确率: %.1f%%' % accuracy(test_prediction.eval(), test_labels))"
   ]
  },
  {
   "cell_type": "markdown",
   "metadata": {},
   "source": [
    "# 二、With SGD\n",
    "\n",
    "用梯度下降算法优化的效果也还不错，并且速度还非常快！\n",
    "\n",
    "现在我们转用比梯度下降方法速度更快的随机梯度下降（SGD），两种方法用到的图是相似的。\n",
    "\n",
    "不想梯度下降方法将所有的训练数据放进一个节点，SGD建立了一个placeholder节点，每次运行session.run()的时候都会分配一个batch size的数据给placeholder。"
   ]
  },
  {
   "cell_type": "code",
   "execution_count": 7,
   "metadata": {
    "collapsed": false
   },
   "outputs": [
    {
     "name": "stdout",
     "output_type": "stream",
     "text": [
      "(10,)\n",
      "(128, 10)\n"
     ]
    }
   ],
   "source": [
    "batch_size = 128\n",
    "\n",
    "graph = tf.Graph()\n",
    "with graph.as_default():\n",
    "    # Input data. For the training data, we use a placeholder that will be fed\n",
    "    # at run time with a training minibatch.\n",
    "    tf_train_dataset = tf.placeholder(tf.float32,\n",
    "                                    shape=(batch_size, image_size * image_size))\n",
    "    tf_train_labels = tf.placeholder(tf.float32, shape=(batch_size, num_labels))\n",
    "    tf_valid_dataset = tf.constant(valid_dataset)\n",
    "    tf_test_dataset = tf.constant(test_dataset)\n",
    "  \n",
    "    # Variables.\n",
    "    weights = tf.Variable(\n",
    "        tf.truncated_normal([image_size * image_size, num_labels]))\n",
    "    biases = tf.Variable(tf.zeros([num_labels]))\n",
    "    print(biases.get_shape())\n",
    "\n",
    "    # Training computation.\n",
    "    logits = tf.matmul(tf_train_dataset, weights) + biases\n",
    "    print(logits.get_shape())\n",
    "    loss = tf.reduce_mean(\n",
    "        tf.nn.softmax_cross_entropy_with_logits(logits=logits, labels=tf_train_labels))\n",
    "  \n",
    "    # Optimizer.\n",
    "    optimizer = tf.train.GradientDescentOptimizer(0.5).minimize(loss)\n",
    "\n",
    "    # Predictions for the training, validation, and test data.\n",
    "    train_prediction = tf.nn.softmax(logits)\n",
    "    valid_prediction = tf.nn.softmax(\n",
    "        tf.matmul(tf_valid_dataset, weights) + biases)\n",
    "    test_prediction = tf.nn.softmax(tf.matmul(tf_test_dataset, weights) + biases)"
   ]
  },
  {
   "cell_type": "code",
   "execution_count": 8,
   "metadata": {
    "collapsed": false
   },
   "outputs": [
    {
     "name": "stdout",
     "output_type": "stream",
     "text": [
      "WARNING:tensorflow:From <ipython-input-8-1286133431d5>:4: initialize_all_variables (from tensorflow.python.ops.variables) is deprecated and will be removed after 2017-03-02.\n",
      "Instructions for updating:\n",
      "Use `tf.global_variables_initializer` instead.\n",
      "初始化变量...\n",
      "Minibatch loss at step 0: 16.593002\n",
      "Minibatch 准确率: 9.4%\n",
      "验证集准确率: 10.6%\n",
      "Minibatch loss at step 500: 1.991482\n",
      "Minibatch 准确率: 67.2%\n",
      "验证集准确率: 75.3%\n",
      "Minibatch loss at step 1000: 1.248387\n",
      "Minibatch 准确率: 77.3%\n",
      "验证集准确率: 76.5%\n",
      "Minibatch loss at step 1500: 1.164837\n",
      "Minibatch 准确率: 78.1%\n",
      "验证集准确率: 77.3%\n",
      "Minibatch loss at step 2000: 0.666750\n",
      "Minibatch 准确率: 87.5%\n",
      "验证集准确率: 77.5%\n",
      "Minibatch loss at step 2500: 0.749796\n",
      "Minibatch 准确率: 84.4%\n",
      "验证集准确率: 78.2%\n",
      "Minibatch loss at step 3000: 1.067075\n",
      "Minibatch 准确率: 76.6%\n",
      "验证集准确率: 78.1%\n",
      "测试集准确率: 85.8%\n"
     ]
    }
   ],
   "source": [
    "num_steps = 3001\n",
    "\n",
    "with tf.Session(graph=graph) as session:\n",
    "    tf.initialize_all_variables().run()\n",
    "    print(\"初始化变量...\")\n",
    "    for step in range(num_steps):\n",
    "        # Pick an offset within the training data, which has been randomized.\n",
    "        # Note: we could use better randomization across epochs.\n",
    "        offset = (step * batch_size) % (train_labels.shape[0] - batch_size)\n",
    "        # Generate a minibatch.\n",
    "        batch_data = train_dataset[offset:(offset + batch_size), :]\n",
    "        batch_labels = train_labels[offset:(offset + batch_size), :]\n",
    "        # Prepare a dictionary telling the session where to feed the minibatch.\n",
    "        # The key of the dictionary is the placeholder node of the graph to be fed,\n",
    "        # and the value is the numpy array to feed to it.\n",
    "        feed_dict = {tf_train_dataset : batch_data, tf_train_labels : batch_labels}\n",
    "        _, l, predictions = session.run([optimizer, loss, train_prediction], feed_dict=feed_dict)\n",
    "        if (step % 500 == 0):\n",
    "            print(\"Minibatch loss at step %d: %f\" % (step, l))\n",
    "            print(\"Minibatch 准确率: %.1f%%\" % accuracy(predictions, batch_labels))\n",
    "            print(\"验证集准确率: %.1f%%\" % accuracy(valid_prediction.eval(), valid_labels))\n",
    "    print(\"测试集准确率: %.1f%%\" % accuracy(test_prediction.eval(), test_labels))"
   ]
  },
  {
   "cell_type": "markdown",
   "metadata": {},
   "source": [
    "# 三、ReLUs 网络\n",
    "\n",
    "将运用SGD的LR回归例子转换成只有一个隐藏层（1024个隐藏层节点）的ReLUs神经网络。经比较，这个模型能够提升验证集和测试集精度，性能有了大幅度提升。"
   ]
  },
  {
   "cell_type": "code",
   "execution_count": 9,
   "metadata": {
    "collapsed": false
   },
   "outputs": [],
   "source": [
    "batch_size = 128\n",
    "relu_count = 10000 #隐藏节点个数\n",
    "\n",
    "graph = tf.Graph()\n",
    "with graph.as_default():\n",
    "    # 输入数据\n",
    "    tf_train_dataset = tf.placeholder(tf.float32,\n",
    "                                    shape=(batch_size, image_size * image_size))\n",
    "    tf_train_labels = tf.placeholder(tf.float32, shape=(batch_size, num_labels))\n",
    "    tf_valid_dataset = tf.constant(valid_dataset)\n",
    "    tf_test_dataset = tf.constant(test_dataset)\n",
    "    \n",
    "    # 变量\n",
    "    # note：这里考到了神经网络中练习参数（权重和偏置项）个数的计算\n",
    "    # see：https://classroom.udacity.com/courses/ud730/lessons/6379031992/concepts/63789029420923\n",
    "    # 输入层→隐藏层：权重个数1024*1*1*(28*28)，偏置项个数1024\n",
    "    # 隐藏层→输出层：权重个数10*1*1*1024，偏置项个数10\n",
    "    # 输出层：10*1\n",
    "    weights = [tf.Variable(tf.truncated_normal([image_size * image_size, relu_count])),\n",
    "              tf.Variable(tf.truncated_normal([relu_count, num_labels]))]\n",
    "    biases = [tf.Variable(tf.zeros([relu_count])),\n",
    "              tf.Variable(tf.zeros([num_labels]))]\n",
    "    \n",
    "    # 训练计算\n",
    "    hidden_layer = tf.nn.relu(tf.add(tf.matmul(tf_train_dataset, weights[0]), biases[0]))\n",
    "    logits = tf.add(tf.matmul(hidden_layer, weights[1]), biases[1])\n",
    "    loss = tf.reduce_mean(\n",
    "        tf.nn.softmax_cross_entropy_with_logits(logits=logits, labels=tf_train_labels))\n",
    "    # Optimizer.\n",
    "    optimizer = tf.train.GradientDescentOptimizer(0.5).minimize(loss)\n",
    "    \n",
    "    # Predictions for the training, validation, and test data.\n",
    "    train_prediction = tf.nn.softmax(logits)\n",
    "    valid_prediction = tf.nn.softmax(tf.add(tf.matmul(tf.nn.relu(tf.add(tf.matmul(tf_valid_dataset, weights[0]), biases[0]))\n",
    "                                                      , weights[1]), biases[1]))\n",
    "    test_prediction = tf.nn.softmax(tf.add(tf.matmul(tf.nn.relu(tf.add(tf.matmul(tf_test_dataset, weights[0]), biases[0]))\n",
    "                                                      , weights[1]), biases[1]))"
   ]
  },
  {
   "cell_type": "code",
   "execution_count": 10,
   "metadata": {
    "collapsed": false
   },
   "outputs": [
    {
     "name": "stdout",
     "output_type": "stream",
     "text": [
      "WARNING:tensorflow:From <ipython-input-10-ac27f3dba7dd>:8: initialize_all_variables (from tensorflow.python.ops.variables) is deprecated and will be removed after 2017-03-02.\n",
      "Instructions for updating:\n",
      "Use `tf.global_variables_initializer` instead.\n",
      "初始化变量...\n",
      "Minibatch loss at step 0: 1234.318726\n",
      "Minibatch 准确率: 10.2%\n",
      "验证集准确率: 19.1%\n",
      "Minibatch loss at step 500: 254.571014\n",
      "Minibatch 准确率: 78.1%\n",
      "验证集准确率: 82.4%\n",
      "Minibatch loss at step 1000: 205.607880\n",
      "Minibatch 准确率: 81.2%\n",
      "验证集准确率: 83.1%\n",
      "Minibatch loss at step 1500: 36.849697\n",
      "Minibatch 准确率: 89.1%\n",
      "验证集准确率: 83.7%\n",
      "Minibatch loss at step 2000: 20.069494\n",
      "Minibatch 准确率: 93.8%\n",
      "验证集准确率: 85.3%\n",
      "Minibatch loss at step 2500: 36.324703\n",
      "Minibatch 准确率: 91.4%\n",
      "验证集准确率: 84.4%\n",
      "Minibatch loss at step 3000: 20.559185\n",
      "Minibatch 准确率: 90.6%\n",
      "验证集准确率: 85.4%\n",
      "Minibatch loss at step 3500: 5.260818\n",
      "Minibatch 准确率: 92.2%\n",
      "验证集准确率: 86.3%\n",
      "Minibatch loss at step 4000: 46.144531\n",
      "Minibatch 准确率: 88.3%\n",
      "验证集准确率: 86.1%\n",
      "Minibatch loss at step 4500: 14.380877\n",
      "Minibatch 准确率: 89.8%\n",
      "验证集准确率: 85.0%\n",
      "测试集准确率: 92.6%\n"
     ]
    }
   ],
   "source": [
    "def accuracy(predictions, labels):\n",
    "  return (100.0 * np.sum(np.argmax(predictions, 1) == np.argmax(labels, 1))\n",
    "          / predictions.shape[0])\n",
    "\n",
    "num_steps = 5000\n",
    "\n",
    "with tf.Session(graph=graph) as session:\n",
    "    tf.initialize_all_variables().run()\n",
    "    print(\"初始化变量...\")\n",
    "    for step in range(num_steps):\n",
    "        # Pick an offset within the training data, which has been randomized.\n",
    "        # Note: we could use better randomization across epochs.\n",
    "        offset = (step * batch_size) % (train_labels.shape[0] - batch_size)\n",
    "        # Generate a minibatch.\n",
    "        batch_data = train_dataset[offset:(offset + batch_size), :]\n",
    "        batch_labels = train_labels[offset:(offset + batch_size), :]\n",
    "        # Prepare a dictionary telling the session where to feed the minibatch.\n",
    "        # The key of the dictionary is the placeholder node of the graph to be fed,\n",
    "        # and the value is the numpy array to feed to it.\n",
    "        feed_dict = {tf_train_dataset : batch_data, tf_train_labels : batch_labels}\n",
    "        _, l, predictions = session.run([optimizer, loss, train_prediction], feed_dict=feed_dict)\n",
    "        if (step % 500 == 0):\n",
    "            print(\"Minibatch loss at step %d: %f\" % (step, l))\n",
    "            print(\"Minibatch 准确率: %.1f%%\" % accuracy(predictions, batch_labels))\n",
    "            print(\"验证集准确率: %.1f%%\" % accuracy(valid_prediction.eval(), valid_labels))\n",
    "    print(\"测试集准确率: %.1f%%\" % accuracy(test_prediction.eval(), test_labels))"
   ]
  },
  {
   "cell_type": "code",
   "execution_count": null,
   "metadata": {
    "collapsed": true
   },
   "outputs": [],
   "source": []
  }
 ],
 "metadata": {
  "anaconda-cloud": {
   "environment": null,
   "url": "https://anaconda.org/libin_ml/deep_learning_assignment_2"
  },
  "kernelspec": {
   "display_name": "Python [Root]",
   "language": "python",
   "name": "Python [Root]"
  },
  "language_info": {
   "codemirror_mode": {
    "name": "ipython",
    "version": 3
   },
   "file_extension": ".py",
   "mimetype": "text/x-python",
   "name": "python",
   "nbconvert_exporter": "python",
   "pygments_lexer": "ipython3",
   "version": "3.5.2"
  }
 },
 "nbformat": 4,
 "nbformat_minor": 0
}
